{
 "cells": [
  {
   "cell_type": "markdown",
   "metadata": {},
   "source": [
    "# IFN-646 Project: Images Classification of Breast Cancer"
   ]
  },
  {
   "cell_type": "markdown",
   "metadata": {},
   "source": [
    "## Description\n",
    "\n",
    "In this file, we will perform how we run the classifiers to classify which case considered as **BENIGN** or **MALIGNANT**."
   ]
  },
  {
   "cell_type": "markdown",
   "metadata": {},
   "source": [
    "### Data Cleaning and Wrangling"
   ]
  },
  {
   "cell_type": "markdown",
   "metadata": {},
   "source": [
    "In this section of code, we will do the Data cleaning and Wrangling including do the stratified sampling."
   ]
  },
  {
   "cell_type": "code",
   "execution_count": 1,
   "metadata": {},
   "outputs": [],
   "source": [
    "#Import Library needed\n",
    "import pandas as pd\n",
    "import os\n",
    "import re"
   ]
  },
  {
   "cell_type": "code",
   "execution_count": 2,
   "metadata": {},
   "outputs": [],
   "source": [
    "#Function to set the subject ID for calc and mass dataset\n",
    "def generate_full_mask(name, file):\n",
    "    df_full = pd.read_csv(file)\n",
    "    df_full[['assessment', 'abnormality id']] = df_full[['assessment', 'abnormality id']].astype(str)\n",
    "    df_full['Subject ID'] = name+df_full['patient_id']+'_'+df_full['left or right breast']+'_'+df_full['image view']\n",
    "    df_mask = pd.read_csv(file)\n",
    "    df_mask[['assessment', 'abnormality id']] = df_mask[['assessment', 'abnormality id']].astype(str)\n",
    "    df_mask['Subject ID'] = name+df_mask['patient_id']+'_'+df_mask['left or right breast']+'_'+df_mask['image view']+'_'+df_mask['abnormality id']\n",
    "    df_full = df_full.drop_duplicates(subset=['Subject ID'], keep='first')\n",
    "    df_mask = df_mask.drop_duplicates(subset=['Subject ID'], keep='first')\n",
    "    return df_full, df_mask\n",
    "\n",
    "#Function to get the pathfile\n",
    "def get_name(directory):\n",
    "\n",
    "    names = []\n",
    "\n",
    "    for root, dirs, files in os.walk(directory):\n",
    "        for filename in files:\n",
    "            _, ext = os.path.splitext(filename)\n",
    "            if ext in ['.png']:\n",
    "                names.append(os.path.join(root, filename))\n",
    "\n",
    "    return names\n",
    "\n",
    "def merge_path(data1, data2):\n",
    "    #Select necessary column to match with metadata from calc and mass dataset\n",
    "    data1 = data1.iloc[:,[8,9,14]]\n",
    "    data2 = data2.iloc[:,[8,9,14]]\n",
    "    merge1 = pd.merge(data1, result, on='Subject ID', how='inner')\n",
    "    merge2 = pd.merge(data2, result, on='Subject ID', how='inner')\n",
    "    merge = pd.concat([merge1, merge2])\n",
    "    #Only select the mask file, which start with 1-2.dcm (Thus keep the last)\n",
    "    merge = merge.drop_duplicates(subset=['Subject ID'], keep='last')\n",
    "    #Re-index the dataframe\n",
    "    merge = merge.reindex(columns=['Subject ID','assessment','pathology','Match','Pathfile'])\n",
    "    #Change the Benign Without Callback to Benign\n",
    "    merge['pathology'] = merge['pathology'].replace(['BENIGN_WITHOUT_CALLBACK'],'BENIGN')\n",
    "    return merge"
   ]
  },
  {
   "cell_type": "code",
   "execution_count": 3,
   "metadata": {},
   "outputs": [],
   "source": [
    "#Initiate dataset\n",
    "calc_train_full, calc_train_mask = generate_full_mask('Calc-Training_','calc_case_description_train_set.csv')\n",
    "calc_test_full, calc_test_mask = generate_full_mask('Calc-Test_', 'calc_case_description_test_set.csv')\n",
    "mass_train_full, mass_train_mask = generate_full_mask('Mass-Training_','mass_case_description_train_set.csv')\n",
    "mass_test_full, mass_test_mask = generate_full_mask('Mass-Test_','mass_case_description_test_set.csv')\n",
    "metadata = pd.read_csv('metadata.csv')"
   ]
  },
  {
   "cell_type": "code",
   "execution_count": 4,
   "metadata": {},
   "outputs": [],
   "source": [
    "#Initiate the variable to get the pathfile for each images\n",
    "names = get_name('CBIS-DDSM')\n",
    "#Make it into dataframe\n",
    "names = pd.DataFrame(names,columns=['Pathfile'])\n",
    "#Make the Match Column to match with File Location in metadata\n",
    "names['Match'] = names['Pathfile'].str[:-12]\n",
    "#Make a new column called Match for joining the metadata with pathfile from names\n",
    "metadata['Match'] = metadata['File Location'].str[2:]\n",
    "#Drop unnecessary column from metadata\n",
    "metadata = metadata.iloc[:,[4,17]]\n",
    "#Merge the new PNG pathfile to metadata\n",
    "result = pd.merge(metadata, names, on='Match', how='inner')"
   ]
  },
  {
   "cell_type": "code",
   "execution_count": 9,
   "metadata": {
    "scrolled": true
   },
   "outputs": [],
   "source": [
    "#Pathfile for each dataset\n",
    "calc_train = merge_path(calc_train_full,calc_train_mask)\n",
    "calc_test = merge_path(calc_test_full,calc_test_mask)\n",
    "mass_train = merge_path(mass_train_full,mass_train_mask)\n",
    "mass_test = merge_path(mass_test_full,mass_test_mask)"
   ]
  },
  {
   "cell_type": "markdown",
   "metadata": {},
   "source": [
    "## Data Split"
   ]
  },
  {
   "cell_type": "code",
   "execution_count": null,
   "metadata": {},
   "outputs": [],
   "source": []
  }
 ],
 "metadata": {
  "kernelspec": {
   "display_name": "Python 3",
   "language": "python",
   "name": "python3"
  },
  "language_info": {
   "codemirror_mode": {
    "name": "ipython",
    "version": 3
   },
   "file_extension": ".py",
   "mimetype": "text/x-python",
   "name": "python",
   "nbconvert_exporter": "python",
   "pygments_lexer": "ipython3",
   "version": "3.7.4"
  }
 },
 "nbformat": 4,
 "nbformat_minor": 2
}
