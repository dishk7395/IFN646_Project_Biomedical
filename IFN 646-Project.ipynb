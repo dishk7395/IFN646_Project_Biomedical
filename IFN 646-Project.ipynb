{
 "cells": [
  {
   "cell_type": "markdown",
   "metadata": {},
   "source": [
    "# IFN-646 Project: Images Classification of Breast Cancer"
   ]
  },
  {
   "cell_type": "markdown",
   "metadata": {},
   "source": [
    "## Description\n",
    "\n",
    "In this file, we will perform how we run the classifiers to classify which case considered as **BENIGN** or **MALIGNANT**."
   ]
  },
  {
   "cell_type": "markdown",
   "metadata": {},
   "source": [
    "### Data Cleaning and Wrangling"
   ]
  },
  {
   "cell_type": "markdown",
   "metadata": {},
   "source": [
    "In this section of code, we will do the Data cleaning and Wrangling including do the stratified sampling."
   ]
  },
  {
   "cell_type": "code",
   "execution_count": 99,
   "metadata": {},
   "outputs": [],
   "source": [
    "#Import Library needed\n",
    "import pandas as pd"
   ]
  },
  {
   "cell_type": "code",
   "execution_count": 100,
   "metadata": {},
   "outputs": [],
   "source": [
    "#Load the CSV file\n",
    "metadata = pd.read_csv('metadata.csv')\n",
    "calc_train = pd.read_csv('calc_case_description_train_set.csv')\n",
    "calc_test = pd.read_csv('calc_case_description_test_set.csv')\n",
    "mass_train = pd.read_csv('mass_case_description_train_set.csv')\n",
    "mass_test = pd.read_csv('mass_case_description_test_set.csv')"
   ]
  },
  {
   "cell_type": "code",
   "execution_count": 101,
   "metadata": {},
   "outputs": [],
   "source": [
    "#Function to set the subject ID for calc and mass dataset\n",
    "def generate_full_mask(name, file):\n",
    "    df_full = pd.read_csv(file)\n",
    "    df_full[['assessment', 'abnormality id']] = df_full[['assessment', 'abnormality id']].astype(str)\n",
    "    df_full['Subject_ID'] = name+df_full['patient_id']+'_'+df_full['left or right breast']+'_'+df_full['image view']\n",
    "    df_mask = pd.read_csv(file)\n",
    "    df_mask[['assessment', 'abnormality id']] = df_mask[['assessment', 'abnormality id']].astype(str)\n",
    "    df_mask['Subject_ID'] = name+df_mask['patient_id']+'_'+df_mask['left or right breast']+'_'+df_mask['image view']+'_'+df_mask['abnormality id']\n",
    "    df_full = df_full.drop_duplicates(subset=['Subject_ID'], keep='first')\n",
    "    df_mask = df_mask.drop_duplicates(subset=['Subject_ID'], keep='first')\n",
    "    return df_full, df_mask"
   ]
  },
  {
   "cell_type": "code",
   "execution_count": 110,
   "metadata": {},
   "outputs": [],
   "source": [
    "calc_train_full, calc_train_mask = generate_full_mask('Calc-Training_','calc_case_description_train_set.csv')\n",
    "calc_test_full, calc_test_mask = generate_full_mask('Calc-Test_', 'calc_case_description_test_set.csv')\n",
    "mass_train_full, mass_train_mask = generate_full_mask('Mass-Training_','mass_case_description_train_set.csv')\n",
    "mass_test_full, mass_test_mask = generate_full_mask('Mass-Test_','mass_case_description_test_set.csv')"
   ]
  },
  {
   "cell_type": "code",
   "execution_count": null,
   "metadata": {},
   "outputs": [],
   "source": []
  }
 ],
 "metadata": {
  "kernelspec": {
   "display_name": "Python 3",
   "language": "python",
   "name": "python3"
  },
  "language_info": {
   "codemirror_mode": {
    "name": "ipython",
    "version": 3
   },
   "file_extension": ".py",
   "mimetype": "text/x-python",
   "name": "python",
   "nbconvert_exporter": "python",
   "pygments_lexer": "ipython3",
   "version": "3.7.4"
  }
 },
 "nbformat": 4,
 "nbformat_minor": 2
}
